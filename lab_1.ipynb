{
 "cells": [
  {
   "cell_type": "code",
   "execution_count": 160,
   "outputs": [],
   "source": [
    "import numpy as np\n",
    "import matplotlib.pyplot as plt"
   ],
   "metadata": {
    "collapsed": false,
    "pycharm": {
     "name": "#%%\n"
    }
   }
  },
  {
   "cell_type": "code",
   "execution_count": 161,
   "outputs": [],
   "source": [
    "def predict(x, weight):\n",
    "    return np.dot(x, weight)"
   ],
   "metadata": {
    "collapsed": false,
    "pycharm": {
     "name": "#%%\n"
    }
   }
  },
  {
   "cell_type": "code",
   "execution_count": 162,
   "outputs": [],
   "source": [
    "def  loss_function(weight, x, y):\n",
    "    m = len(y)\n",
    "\n",
    "    predicted_values = predict(x, weight)\n",
    "    loss = (1 / (2 * m)) * np.sum((predicted_values - y) ** 2)\n",
    "    return loss"
   ],
   "metadata": {
    "collapsed": false,
    "pycharm": {
     "name": "#%%\n"
    }
   }
  },
  {
   "cell_type": "code",
   "execution_count": 163,
   "outputs": [],
   "source": [
    "\n",
    "def gradient_descent(x ,y, weight, alpha=0.01,\n",
    "                     iterations=100, tolerance=0.01, print_epoch=True):\n",
    "    m = len(y)\n",
    "    loss_history = np.zeros(iterations)\n",
    "    weight_history = np.zeros((iterations, 2))\n",
    "\n",
    "    for iteration in range(iterations):\n",
    "        prediction = predict(x, weight)\n",
    "        old_weight = weight\n",
    "        weight = old_weight - (alpha / m) * np.dot(x.T, prediction - y)\n",
    "\n",
    "        weight_history[iteration, :] = weight.T\n",
    "        loss_history[iteration]  = loss_function(weight, x, y)\n",
    "\n",
    "        if all([np.abs(old_weight[0][0] - weight[0][0]) <= tolerance,\n",
    "                np.abs(old_weight[1][0] - weight[1][0]) <= tolerance]):\n",
    "            print(f\"Stopped at {iteration} iteration\")\n",
    "            loss_history = loss_history[np.where(loss_history != 0)]\n",
    "            weight_history = weight_history[~np.all(weight_history == 0, axis=1)]\n",
    "            break\n",
    "\n",
    "        if print_epoch:\n",
    "            print(f\"Epoch {iteration}: [w0 = %.3f\\tw1 = %.3f]\\t\"\n",
    "                  f\"Loss = %.2f\" % (weight[0][0], weight[1][0],\n",
    "                                    loss_history[iteration]))\n",
    "\n",
    "    return weight, loss_history, weight_history"
   ],
   "metadata": {
    "collapsed": false,
    "pycharm": {
     "name": "#%%\n"
    }
   }
  },
  {
   "cell_type": "code",
   "execution_count": 164,
   "outputs": [],
   "source": [
    "def main():\n",
    "    alpha = 0.1\n",
    "    tolerance = 0.0001\n",
    "    iterations = 10000\n",
    "    weight = np.random.randn(2, 1)\n",
    "\n",
    "    data_train = np.genfromtxt('lab_1_train.csv', delimiter=',')[1:]\n",
    "    x_train = data_train[:, [1]]\n",
    "    X_train = np.c_[np.ones((len(x_train), 1)), x_train]\n",
    "    y_train = data_train[:, [2]]\n",
    "    plt.scatter(x_train, y_train, marker = '.')\n",
    "    plt.show()\n",
    "\n",
    "    data_test = np.genfromtxt('lab_1_test.csv', delimiter=',')[1:]\n",
    "    x_test = data_test[:, [1]]\n",
    "    X_test = np.c_[np.ones((len(x_test), 1)), x_test]\n",
    "    y_test = data_test[:, [2]]\n",
    "\n",
    "    weight, loss_history, weight_history = gradient_descent(\n",
    "        X_train, y_train, weight, iterations=iterations, alpha=alpha, tolerance=tolerance, print_epoch=False\n",
    "    )\n",
    "\n",
    "    print(f\"w0 = {weight[0][0]}\\tw1 = {weight[1][0]}\")\n",
    "    y_predicted = predict(X_test, weight)\n",
    "    print(f\"Loss function: {loss_function(weight, X_test, y_test)}\")\n",
    "\n",
    "    plt.scatter(x_test, y_test, marker = '.')\n",
    "    plt.plot(x_test, y_predicted, color = 'red')\n",
    "    plt.show()\n",
    "\n",
    "    x = np.concatenate((x_train, x_test))\n",
    "    y = np.concatenate((y_train, y_test))\n",
    "    y_train_predicted = predict(X_train, weight)\n",
    "\n",
    "    plt.scatter(x, y, marker = '.')\n",
    "    plt.plot(x_test, y_predicted, color = 'red')\n",
    "    plt.plot(x_train, y_train_predicted, color = 'orange')\n",
    "    plt.show()"
   ],
   "metadata": {
    "collapsed": false,
    "pycharm": {
     "name": "#%%\n"
    }
   }
  },
  {
   "cell_type": "code",
   "execution_count": 165,
   "outputs": [
    {
     "data": {
      "text/plain": "<Figure size 432x288 with 1 Axes>",
      "image/png": "[encoded data removed]"
     },
     "metadata": {
      "needs_background": "light"
     },
     "output_type": "display_data"
    },
    {
     "name": "stdout",
     "output_type": "stream",
     "text": [
      "Stopped at 1666 iteration\n",
      "w0 = 19.949037425573042\tw1 = 2.014299238494212\n",
      "Loss function: 0.03714971035864614\n"
     ]
    },
    {
     "data": {
      "text/plain": "<Figure size 432x288 with 1 Axes>",
      "image/png": "[encoded data removed]"
     },
     "metadata": {
      "needs_background": "light"
     },
     "output_type": "display_data"
    },
    {
     "data": {
      "text/plain": "<Figure size 432x288 with 1 Axes>",
      "image/png": "[encoded data removed]"
     },
     "metadata": {
      "needs_background": "light"
     },
     "output_type": "display_data"
    }
   ],
   "source": [
    "main()"
   ],
   "metadata": {
    "collapsed": false,
    "pycharm": {
     "name": "#%%\n"
    }
   }
  }
 ],
 "metadata": {
  "kernelspec": {
   "display_name": "Python 3",
   "language": "python",
   "name": "python3"
  },
  "language_info": {
   "codemirror_mode": {
    "name": "ipython",
    "version": 2
   },
   "file_extension": ".py",
   "mimetype": "text/x-python",
   "name": "python",
   "nbconvert_exporter": "python",
   "pygments_lexer": "ipython2",
   "version": "2.7.6"
  }
 },
 "nbformat": 4,
 "nbformat_minor": 0
}